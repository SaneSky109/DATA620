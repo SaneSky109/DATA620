{
 "cells": [
  {
   "cell_type": "markdown",
   "id": "7ea3f13e",
   "metadata": {},
   "source": [
    "# DATA602:  Assignment 2"
   ]
  },
  {
   "cell_type": "markdown",
   "id": "71631089",
   "metadata": {},
   "source": [
    "## Eric Lehmphul"
   ]
  },
  {
   "cell_type": "markdown",
   "id": "550d2fca",
   "metadata": {},
   "source": [
    "### Question 1 "
   ]
  },
  {
   "cell_type": "markdown",
   "id": "a5f37c1a",
   "metadata": {},
   "source": [
    "**What will the following code display?**\n",
    "\n",
    "numbers = [1, 2, 3, 4, 5]\n",
    "\n",
    "print(numbers[1:-5])\n",
    "\n",
    "**Can you debug and fix the output? The code should return the entire list.**"
   ]
  },
  {
   "cell_type": "markdown",
   "id": "fa1f35f0",
   "metadata": {},
   "source": [
    "The original code will display an empty list object, as shown below:"
   ]
  },
  {
   "cell_type": "code",
   "execution_count": 2,
   "id": "38c70a12",
   "metadata": {},
   "outputs": [
    {
     "name": "stdout",
     "output_type": "stream",
     "text": [
      "[]\n"
     ]
    }
   ],
   "source": [
    "numbers = [1, 2, 3, 4, 5]\n",
    "print(numbers[1:-5])"
   ]
  },
  {
   "cell_type": "markdown",
   "id": "dd941699",
   "metadata": {},
   "source": [
    " To fix this code to return the entire list, the indexes being called must be changed (shown below)."
   ]
  },
  {
   "cell_type": "code",
   "execution_count": 1,
   "id": "90973196",
   "metadata": {},
   "outputs": [
    {
     "name": "stdout",
     "output_type": "stream",
     "text": [
      "[1, 2, 3, 4, 5]\n"
     ]
    }
   ],
   "source": [
    "numbers = [1, 2, 3, 4, 5]\n",
    "print(numbers[:5]) # Shows from index 0 to the end of the list"
   ]
  },
  {
   "cell_type": "markdown",
   "id": "3bf5ff2b",
   "metadata": {},
   "source": [
    "### Question 2"
   ]
  },
  {
   "cell_type": "markdown",
   "id": "3532bc4e",
   "metadata": {},
   "source": [
    "**Design a program that asks the user to enter a store’s sales for each day of the week. The amounts should be stored in a list. Use a loop to calculate the total sales for the week and display the result.**"
   ]
  },
  {
   "cell_type": "code",
   "execution_count": null,
   "id": "d6ba1ae5",
   "metadata": {},
   "outputs": [],
   "source": [
    "print(\"Please enter in the store’s sales for each day of the week.\")\n",
    "\n",
    "monday = float(input(\"Monday's sales: \"))\n",
    "tuesday = float(input(\"Tuesday's sales: \"))\n",
    "wednesday = float(input(\"Wednesday's sales: \"))\n",
    "thursday = float(input(\"Thursday's sales: \"))\n",
    "friday = float(input(\"Friday's sales: \"))\n",
    "saturday = float(input(\"Saturday's sales: \"))\n",
    "sunday = float(input(\"Sunday's sales: \"))\n",
    "\n"
   ]
  },
  {
   "cell_type": "code",
   "execution_count": 3,
   "id": "1ffce75f",
   "metadata": {
    "scrolled": false
   },
   "outputs": [
    {
     "name": "stdout",
     "output_type": "stream",
     "text": [
      "Please enter in the store’s sales for each day of the week (One at a time): \n",
      "100\n",
      "125\n",
      "130\n",
      "150\n",
      "85\n",
      "105\n",
      "95\n",
      "[100.0, 125.0, 130.0, 150.0, 85.0, 105.0, 95.0]\n",
      "Total Sales using for loop:  790.0\n",
      "Total Sales using sum function:  790.0\n"
     ]
    }
   ],
   "source": [
    "# creating an empty list\n",
    "weekSales = []\n",
    " \n",
    "# input prompt\n",
    "print(\"Please enter in the store’s sales for each day of the week (One at a time): \")\n",
    " \n",
    "# iterating through each of the days of the week to get user input\n",
    "for i in range(0, 7):\n",
    "    sale = float(input())\n",
    "    weekSales.append(sale) # adding the element to list\n",
    "    \n",
    "# Print List of Sales\n",
    "print(weekSales)\n",
    "\n",
    "# Intitalize total variable\n",
    "total = 0\n",
    "\n",
    "for i in range(0, len(weekSales)):\n",
    "    total = total + weekSales[i] # Calculate total\n",
    "\n",
    "print(\"Total Sales using for loop: \", total)\n",
    "print(\"Total Sales using sum function: \", sum(weekSales))"
   ]
  },
  {
   "cell_type": "markdown",
   "id": "3388ef50",
   "metadata": {},
   "source": [
    "# Question 3"
   ]
  },
  {
   "cell_type": "markdown",
   "id": "bc7301cd",
   "metadata": {},
   "source": [
    "**Create a list with at least 5 places you’d like to travel to. Make sure the list isn’t in\n",
    "alphabetical order:**\n",
    "\n",
    "* **Print your list in its original order.**\n",
    "* **Use the sort() function to arrange your list in order and reprint your list.**\n",
    "* **Use the sort(reverse=True) and reprint your list.**\n"
   ]
  },
  {
   "cell_type": "code",
   "execution_count": 19,
   "id": "549aa458",
   "metadata": {},
   "outputs": [
    {
     "name": "stdout",
     "output_type": "stream",
     "text": [
      "Original order:  ['New York City', 'Alaska', 'Florida', 'England', 'Hawaii']\n",
      "Sorted:  ['Alaska', 'England', 'Florida', 'Hawaii', 'New York City']\n",
      "Sorted Reverse:  ['New York City', 'Hawaii', 'Florida', 'England', 'Alaska']\n"
     ]
    }
   ],
   "source": [
    "# initialize list\n",
    "places = [\"New York City\", \"Alaska\", \"Florida\", \"England\", \"Hawaii\"]\n",
    "\n",
    "# print your list in its original order.\n",
    "print(\"Original order: \", places)\n",
    "\n",
    "# print your list in its sorted order.\n",
    "places.sort()\n",
    "print(\"Sorted: \", places)\n",
    "\n",
    "# print your list in its reverse sorted order.\n",
    "places.sort(reverse = True)\n",
    "print(\"Sorted Reverse: \", places)"
   ]
  },
  {
   "cell_type": "markdown",
   "id": "bea52f0a",
   "metadata": {},
   "source": [
    "# Question 4"
   ]
  },
  {
   "cell_type": "markdown",
   "id": "30b852a0",
   "metadata": {},
   "source": [
    "**Write a program that creates a dictionary containing course numbers and the room numbers of the rooms where the courses meet. The program should also create a dictionary containing course numbers and the names of the instructors that teach each course. After that, the program should let the user enter a course number, then it should display the course’s room number, instructor, and meeting time.**"
   ]
  },
  {
   "cell_type": "code",
   "execution_count": 23,
   "id": "1dcfbaf4",
   "metadata": {},
   "outputs": [
    {
     "name": "stdout",
     "output_type": "stream",
     "text": [
      "Please enter the course number you are interested in: DATA602\n",
      "Information about:  DATA602\n",
      "Room number:  200\n",
      "Instructor:  Schettini\n",
      "Meeting time:  Wed. 6pm\n"
     ]
    }
   ],
   "source": [
    "# Create Dictionaries\n",
    "\n",
    "rooms = {'DATA602': 200, 'DATA620': 215, 'DATA621': 216, 'DATA605': 178, 'DATA607': 111}\n",
    "\n",
    "teachers = {'DATA602': 'Schettini', 'DATA620': 'Ledon', 'DATA621': 'Khansari', 'DATA605': 'Fulton', 'DATA607': 'Catlin'}\n",
    "\n",
    "times = {'DATA602': 'Wed. 6pm', 'DATA620': 'Thurs. 8:30pm', 'DATA621': 'Wed. 8pm', 'DATA605': 'Mon. 8pm', 'DATA607': 'Wed. 7pm'}\n",
    "\n",
    "# Recieve user input\n",
    "user_input = input(\"Please enter the course number you are interested in: \")\n",
    "\n",
    "# Print Course Information\n",
    "if user_input in rooms:\n",
    "    print(\"Information about: \", user_input)\n",
    "    print(\"Room number: \", rooms[user_input])\n",
    "    print(\"Instructor: \", teachers[user_input])\n",
    "    print(\"Meeting time: \", times[user_input])\n",
    "else:\n",
    "    print(\"Invalid course number. Please enter in a different course number\")"
   ]
  },
  {
   "cell_type": "markdown",
   "id": "d166ac23",
   "metadata": {},
   "source": [
    "# Question 5"
   ]
  },
  {
   "cell_type": "markdown",
   "id": "e465451b",
   "metadata": {},
   "source": [
    "**Write a program that keeps names and email addresses in a dictionary as\n",
    "key-value pairs. The program should then demonstrate the four options:**\n",
    "\n",
    "* **look up a person’s email address,**\n",
    "* **add a new name and email address,**\n",
    "* **change an existing email address, and**\n",
    "* **delete an existing name and email address.**"
   ]
  },
  {
   "cell_type": "code",
   "execution_count": 10,
   "id": "0e919b1e",
   "metadata": {},
   "outputs": [
    {
     "name": "stdout",
     "output_type": "stream",
     "text": [
      "Paula Jones' email:  paulajones@123.com\n",
      "\n",
      " Added Smith Smithison: \n",
      " {'Charles Sand': 'charlessand@123.com', 'Bill Arnold': 'billarnold@123.com', 'Sandy Rogers': 'sandyrogers@123.com', 'Paula Jones': 'paulajones@123.com', 'Smith Smithison': 'smithsmithison@123.com'}\n",
      "\n",
      " Changed Charles Sand's email: \n",
      " {'Charles Sand': 'sandsofcharles@123456.com', 'Bill Arnold': 'billarnold@123.com', 'Sandy Rogers': 'sandyrogers@123.com', 'Paula Jones': 'paulajones@123.com', 'Smith Smithison': 'smithsmithison@123.com'}\n",
      "\n",
      " Deleted Bill Arnold's email: \n",
      " {'Charles Sand': 'sandsofcharles@123456.com', 'Sandy Rogers': 'sandyrogers@123.com', 'Paula Jones': 'paulajones@123.com', 'Smith Smithison': 'smithsmithison@123.com'}\n"
     ]
    }
   ],
   "source": [
    "# Initialize Dictionary\n",
    "email = {'Charles Sand': 'charlessand@123.com','Bill Arnold': 'billarnold@123.com', 'Sandy Rogers': 'sandyrogers@123.com', 'Paula Jones': 'paulajones@123.com'}\n",
    "\n",
    "# Look up Person's email address\n",
    "print(\"Paula Jones' email: \", email['Paula Jones'])\n",
    "\n",
    "# Add a new name and email address\n",
    "email['Smith Smithison'] = 'smithsmithison@123.com'\n",
    "\n",
    "print(\"\\n Added Smith Smithison: \\n\", email)\n",
    "\n",
    "# Change an existing email address\n",
    "email['Charles Sand'] = 'sandsofcharles@123456.com'\n",
    "\n",
    "print(\"\\n Changed Charles Sand's email: \\n\", email)\n",
    "\n",
    "# Delete an existing email address\n",
    "email.pop('Bill Arnold')\n",
    "\n",
    "print(\"\\n Deleted Bill Arnold's email: \\n\", email)"
   ]
  }
 ],
 "metadata": {
  "kernelspec": {
   "display_name": "Python 3 (ipykernel)",
   "language": "python",
   "name": "python3"
  },
  "language_info": {
   "codemirror_mode": {
    "name": "ipython",
    "version": 3
   },
   "file_extension": ".py",
   "mimetype": "text/x-python",
   "name": "python",
   "nbconvert_exporter": "python",
   "pygments_lexer": "ipython3",
   "version": "3.9.7"
  }
 },
 "nbformat": 4,
 "nbformat_minor": 5
}
